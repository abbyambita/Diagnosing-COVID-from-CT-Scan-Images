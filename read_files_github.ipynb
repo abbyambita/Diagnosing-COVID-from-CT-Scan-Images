{
 "cells": [
  {
   "cell_type": "code",
   "execution_count": 33,
   "metadata": {},
   "outputs": [],
   "source": [
    "import os\n",
    "import sys\n",
    "import pandas as pd\n",
    "import cv2\n",
    "import matplotlib.pyplot as plt\n",
    "%matplotlib inline"
   ]
  },
  {
   "cell_type": "markdown",
   "metadata": {},
   "source": [
    "Divide COVID data into train, test, and val.\n",
    "\n",
    "COVID-CT-master/Data-split/COVID/ has 3 files, containing the filenames of images located on COVID-CT-master/Images-processed/CT_COVID/.\n",
    "- testCT_COVID\n",
    "- trainCT_COVID\n",
    "- valCT_COVID\n",
    "\n",
    "\n",
    "We iterate through the each of the file and copy the images to\n",
    "- dataset-git/covid/train\n",
    "- dataset-git/covid/test\n",
    "- dataset-git/covid/val"
   ]
  },
  {
   "cell_type": "code",
   "execution_count": 51,
   "metadata": {},
   "outputs": [],
   "source": [
    "datasets = ['train', 'test', 'val']\n",
    "data_covid = \"COVID-CT-master/Data-split/COVID/\"\n",
    "images_covid = \"COVID-CT-master/Images-processed/CT_COVID/\"\n",
    "\n",
    "for group in datasets:\n",
    "    with open(data_covid+group+\"CT_COVID.txt\", 'r') as file:\n",
    "        for cnt, line in enumerate(file):\n",
    "            line = line.strip()\n",
    "            img = cv2.imread(images_covid+line)\n",
    "            cv2.imwrite('dataset-git/covid/'+group+'/' + line,img)\n"
   ]
  },
  {
   "cell_type": "markdown",
   "metadata": {},
   "source": [
    "Divide NonCOVID data into train, test, and val.\n",
    "\n",
    "COVID-CT-master/Data-split/NonCOVID/ has 3 files, containing the filenames of images located on COVID-CT-master/Images-processed/CT_NonCOVID/.\n",
    "- testCT_NonCOVID\n",
    "- trainCT_NonCOVID\n",
    "- valCT_NonCOVID\n",
    "\n",
    "\n",
    "We iterate through the each of the file and copy the images to\n",
    "- dataset-git/noncovid/train\n",
    "- dataset-git/noncovid/test\n",
    "- dataset-git/noncovid/val"
   ]
  },
  {
   "cell_type": "code",
   "execution_count": 58,
   "metadata": {},
   "outputs": [],
   "source": [
    "datasets = ['train', 'test', 'val']\n",
    "data_noncovid = \"COVID-CT-master/Data-split/NonCOVID/\"\n",
    "images_noncovid = \"COVID-CT-master/Images-processed/CT_NonCOVID/\"\n",
    "\n",
    "for group in datasets:\n",
    "    with open(data_noncovid+group+\"CT_NonCOVID.txt\", 'r') as file:\n",
    "        for cnt, line in enumerate(file):\n",
    "            line = line.strip()\n",
    "            img = cv2.imread(images_noncovid+line)\n",
    "            cv2.imwrite('dataset-git/noncovid/'+group+'/' + line,img)"
   ]
  }
 ],
 "metadata": {
  "kernelspec": {
   "display_name": "Python 3",
   "language": "python",
   "name": "python3"
  },
  "language_info": {
   "codemirror_mode": {
    "name": "ipython",
    "version": 3
   },
   "file_extension": ".py",
   "mimetype": "text/x-python",
   "name": "python",
   "nbconvert_exporter": "python",
   "pygments_lexer": "ipython3",
   "version": "3.6.12"
  }
 },
 "nbformat": 4,
 "nbformat_minor": 4
}
